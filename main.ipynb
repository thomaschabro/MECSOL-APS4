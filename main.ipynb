{
 "cells": [
  {
   "attachments": {},
   "cell_type": "markdown",
   "metadata": {},
   "source": [
    "# APS 4\n",
    "\n",
    "Software para análise de treliças planas.\n",
    "\n",
    "Arquivo de entrada: `entrada.xlsx`\n",
    "\n",
    "Arquivo de saída: `saida.xlsx`\n",
    "\n",
    "___"
   ]
  },
  {
   "cell_type": "code",
   "execution_count": 70,
   "metadata": {},
   "outputs": [],
   "source": [
    "# Importando bibliotecas necessárias\n",
    "\n",
    "from funcoesTermosol import *\n",
    "import numpy as np\n",
    "import math"
   ]
  },
  {
   "attachments": {},
   "cell_type": "markdown",
   "metadata": {},
   "source": [
    "Ao importar os **dados de entrada**, temos: \n",
    "\n",
    "- nn $\\rightarrow$ número de nós\n",
    "\n",
    "- N $\\rightarrow$ matriz dos nós\n",
    "\n",
    "- nm $\\rightarrow$ número de membros\n",
    "\n",
    "- Inc $\\rightarrow$ matriz de incidência\n",
    "\n",
    "    - Colunas : \n",
    "\n",
    "    - Nó 1\n",
    "\n",
    "    - Nó 2\n",
    "\n",
    "    - E em $Pa$\n",
    "\n",
    "    - Área em $m^2$\n",
    "\n",
    "- nc $\\rightarrow$ número de cargas\n",
    "\n",
    "- F $\\rightarrow$ forças (Vetor de carregamento)\n",
    "\n",
    "- nr $\\rightarrow$ número de restrições\n",
    "\n",
    "- R $\\rightarrow$ restrições (Vetor com os graus de liberdade)\n"
   ]
  },
  {
   "cell_type": "code",
   "execution_count": 71,
   "metadata": {},
   "outputs": [
    {
     "name": "stdout",
     "output_type": "stream",
     "text": [
      "Número de nós : 3\n",
      "\n",
      "-------------------------\n",
      "Matriz dos nós :\n",
      "\n",
      "[[0.  0.  0.3]\n",
      " [0.  0.4 0.4]]\n",
      "\n",
      "-------------------------\n",
      "Número de membros : 3\n",
      "\n",
      "-------------------------\n",
      "Matriz de incidência :\n",
      "\n",
      "[[1.0e+00 2.0e+00 2.1e+11 2.0e-04]\n",
      " [2.0e+00 3.0e+00 2.1e+11 2.0e-04]\n",
      " [3.0e+00 1.0e+00 2.1e+11 2.0e-04]]\n",
      "\n",
      "-------------------------\n",
      "Número de cargas : 2\n",
      "\n",
      "-------------------------\n",
      "Vetor de cargas :\n",
      "\n",
      "[[   0.]\n",
      " [   0.]\n",
      " [   0.]\n",
      " [   0.]\n",
      " [ 150.]\n",
      " [-100.]]\n",
      "\n",
      "-------------------------\n",
      "Número de restrições : 3\n",
      "\n",
      "-------------------------\n",
      "Vetor de restrições :\n",
      "\n",
      "[[0.]\n",
      " [2.]\n",
      " [3.]]\n"
     ]
    }
   ],
   "source": [
    "# Importando dados de entrada e printando\n",
    "\n",
    "[nn,N,nm,Inc,nc,F,nr,R] = importa('entrada.xls')\n",
    "print(\"Número de nós :\", nn)\n",
    "print(\"\")\n",
    "print(\"-------------------------\")\n",
    "print(\"Matriz dos nós :\\n\")\n",
    "print(N)\n",
    "print(\"\")\n",
    "print(\"-------------------------\")\n",
    "print(\"Número de membros :\", nm)\n",
    "print(\"\")\n",
    "print(\"-------------------------\")\n",
    "print(\"Matriz de incidência :\\n\")\n",
    "print(Inc)\n",
    "print(\"\")\n",
    "print(\"-------------------------\")\n",
    "print(\"Número de cargas :\", nc)\n",
    "print(\"\")\n",
    "print(\"-------------------------\")\n",
    "print(\"Vetor de cargas :\\n\")\n",
    "print(F)\n",
    "print(\"\")\n",
    "print(\"-------------------------\")\n",
    "print(\"Número de restrições :\", nr)\n",
    "print(\"\")\n",
    "print(\"-------------------------\")\n",
    "print(\"Vetor de restrições :\\n\")\n",
    "print(R)\n"
   ]
  },
  {
   "cell_type": "code",
   "execution_count": 72,
   "metadata": {},
   "outputs": [
    {
     "data": {
      "image/png": "[encoded data removed]",
      "text/plain": [
       "<Figure size 640x480 with 1 Axes>"
      ]
     },
     "metadata": {},
     "output_type": "display_data"
    }
   ],
   "source": [
    "# Função que cria imagem da estrutura\n",
    "\n",
    "plota(N,Inc)"
   ]
  },
  {
   "attachments": {},
   "cell_type": "markdown",
   "metadata": {},
   "source": [
    "___\n",
    "\n",
    "## Pré-processamento\n",
    "\n",
    "Uma vez demonstrados e importados os dados necessários, podemos começar o **pré-processamento dos dados**. Para isso, seguiremos os seguintes passos: \n",
    "\n",
    "1. Montar a matriz de conectividade\n",
    "\n",
    "2. Montar a matriz de rigidez de cada elemento\n",
    "\n",
    "3. Montar a matriz de rigidez global da treliça\n",
    "\n",
    "4. Montar o vetor de carregamento global (vetor de forças)\n",
    "\n",
    "5. Aplicar as condições de contorno nas matrizes de rigidez e de forças\n"
   ]
  },
  {
   "cell_type": "code",
   "execution_count": 73,
   "metadata": {},
   "outputs": [],
   "source": [
    "# Credits to braingineer https://gist.github.com/braingineer/d801735dac07ff3ac4d746e1f218ab75\n",
    "def matprint(mat, fmt=\"g\"):        \n",
    "    col_maxes = [max([len((\"{:\"+fmt+\"}\").format(x)) for x in col]) for col in mat.T]\n",
    "    for x in mat:\n",
    "        for i, y in enumerate(x):\n",
    "            print((\"{:\"+str(col_maxes[i])+fmt+\"}\").format(y), end=\"  \")\n",
    "        print(\"\")"
   ]
  },
  {
   "attachments": {},
   "cell_type": "markdown",
   "metadata": {},
   "source": [
    "**Fazendo Matriz Global a partir das locais**\n",
    "\n"
   ]
  },
  {
   "cell_type": "code",
   "execution_count": 74,
   "metadata": {},
   "outputs": [
    {
     "name": "stdout",
     "output_type": "stream",
     "text": [
      "L =  0.4\n",
      "L =  0.3\n",
      "L =  0.5\n",
      "\n",
      "Matriz de rigidez global\n",
      " 3.024e+07   4.032e+07         0          0  -3.024e+07  -4.032e+07  \n",
      " 4.032e+07  1.5876e+08         0  -1.05e+08  -4.032e+07  -5.376e+07  \n",
      "         0           0   1.4e+08          0    -1.4e+08           0  \n",
      "         0   -1.05e+08         0   1.05e+08           0           0  \n",
      "-3.024e+07  -4.032e+07  -1.4e+08          0  1.7024e+08   4.032e+07  \n",
      "-4.032e+07  -5.376e+07         0          0   4.032e+07   5.376e+07  \n"
     ]
    }
   ],
   "source": [
    "'''\n",
    "Dentro do for, serão criadas as matrizes de rigidez de cada elemento.\n",
    "\n",
    "A partir disto, ao final, iremos somando até que quando sair do loop, \n",
    "teremos a matriz de rigidez global.\n",
    "\n",
    "'''\n",
    "\n",
    "kglobal = np.zeros((nn*2,nn*2))\n",
    "\n",
    "for elemento in range(nm):\n",
    "\n",
    "    no1 = int(Inc[elemento,0]) -1\n",
    "    no2 = int(Inc[elemento,1]) -1\n",
    "\n",
    "    E = Inc[elemento,2]\n",
    "    A = Inc[elemento,3]\n",
    "\n",
    "    L = np.sqrt((N[0,no2]-N[0,no1])**2+(N[1,no2]-N[1,no1])**2)\n",
    "    c2 = ((N[0,no2]-N[0,no1])/L)**2\n",
    "    s2 = ((N[1,no2]-N[1,no1])/L)**2\n",
    "    cs = ((N[0,no2]-N[0,no1])*(N[1,no2]-N[1,no1]))/(L**2)\n",
    "    print(\"L = \",L)\n",
    "\n",
    "\n",
    "    klocal = np.array([[c2,cs,-c2,-cs],[cs,s2,-cs,-s2],[-c2,-cs,c2,cs],[-cs,-s2,cs,s2]])\n",
    "   \n",
    " \n",
    "    klocal = (E*A/L)*klocal\n",
    "    list_dot = [2*no1, 2*no1+1, 2*no2, 2*no2+1]\n",
    "    \n",
    "\n",
    "    kglobal[np.ix_(list_dot,list_dot)] += klocal\n",
    "\n",
    "print(\"\\nMatriz de rigidez global\")\n",
    "matprint(kglobal)"
   ]
  },
  {
   "attachments": {},
   "cell_type": "markdown",
   "metadata": {},
   "source": [
    "Agora, visto que temos restrições, precisamos aplicar as **condições de contorno** nas matrizes de rigidez e de forças. Feito isso, ambas as matrizes estarão prontas para serem resolvidas.\n",
    "\n",
    "**OBS:** Suas formas reduzidas são armazenadas em novas variáveis."
   ]
  },
  {
   "cell_type": "code",
   "execution_count": 75,
   "metadata": {},
   "outputs": [
    {
     "name": "stdout",
     "output_type": "stream",
     "text": [
      "Matriz de rigidez global reduzida\n",
      "\n",
      "1.5876e+08  -4.032e+07  -5.376e+07  \n",
      "-4.032e+07  1.7024e+08   4.032e+07  \n",
      "-5.376e+07   4.032e+07   5.376e+07  \n",
      "--------------------------------------\n",
      "\n",
      "Vetor de forcas reduzido\n",
      "\n",
      "   0  \n",
      " 150  \n",
      "-100  \n"
     ]
    }
   ],
   "source": [
    "kglobalred = kglobal.copy()\n",
    "\n",
    "kglobalred = np.delete(kglobalred, R.astype(int), 0)\n",
    "kglobalred =np.delete(kglobalred, R.astype(int), 1)\n",
    "Fred = F.copy()\n",
    "Fred = np.delete(Fred, R.astype(int), 0)\n",
    "print(\"Matriz de rigidez global reduzida\")\n",
    "print(\"\")\n",
    "matprint(kglobalred)\n",
    "print(\"--------------------------------------\")\n",
    "print(\"\\nVetor de forcas reduzido\")\n",
    "print(\"\")\n",
    "matprint(Fred)"
   ]
  },
  {
   "attachments": {},
   "cell_type": "markdown",
   "metadata": {},
   "source": [
    "___\n",
    "\n",
    "Após aplicadas as condições de contorno, temos o fim da nossa etapa de pré-processamento. Agora, podemos partir para a etapa de **resolução**. Para isso, seguiremos os seguintes passos:\n",
    "\n",
    "1. Aplicar um método numérico para resolver o sistema de equações e obter os deslocamentos nodais\n",
    "\n",
    "    - **OBS :** Para esta etapa, utilizaremos o método de Gauss-Seidel\n",
    "\n",
    "2. Calcular a deformação em cada elemento\n",
    "\n",
    "3. Calcular a tensão em cada elemento\n",
    "\n",
    "4. Determinar as reações de apoio "
   ]
  },
  {
   "cell_type": "code",
   "execution_count": 76,
   "metadata": {},
   "outputs": [
    {
     "name": "stdout",
     "output_type": "stream",
     "text": [
      "Iterações: 10\n",
      "\n",
      "--------------------------------------\n",
      "Vetor de deslocamentos:\n",
      "\n",
      "[[-9.52325199e-07]\n",
      " [ 1.60708865e-06]\n",
      " [-4.01776073e-06]]\n"
     ]
    }
   ],
   "source": [
    "'''\n",
    "O método numérico a ser aplicado, Gauss-Seidel, é um método iterativo, e já \n",
    "possui uma função pronta, dada no arquivo base 'funcoesTermosol.py'.\n",
    "\n",
    "'''\n",
    "\n",
    "u = gauss_seidel(kglobalred, Fred, 100, 0.0001)\n",
    "print(\"\\n--------------------------------------\")\n",
    "print(\"Vetor de deslocamentos:\")\n",
    "print(\"\")\n",
    "print(u)\n"
   ]
  },
  {
   "attachments": {},
   "cell_type": "markdown",
   "metadata": {},
   "source": [
    "**Note que...** neste trecho a seguir, iremos \"consertar\" nosso vetor de deslocamento para torná-lo \"global\", ou seja, com o mesmo tamanho do vetor de forças. Para isso, basta adicionar zeros nas posições que correspondem aos graus de liberdade que foram restringidos."
   ]
  },
  {
   "cell_type": "code",
   "execution_count": 77,
   "metadata": {},
   "outputs": [
    {
     "name": "stdout",
     "output_type": "stream",
     "text": [
      "[ 0.00000000e+00 -9.52325199e-07  0.00000000e+00  0.00000000e+00\n",
      "  1.60708865e-06 -4.01776073e-06]\n"
     ]
    }
   ],
   "source": [
    "Utotal = np.zeros(nn*2)\n",
    "j=0\n",
    "for i in range(nn*2):\n",
    "    if i in R.astype(int):\n",
    "        Utotal[i] = 0\n",
    "    else:\n",
    "        Utotal[i] = u[j]\n",
    "        j+=1\n",
    "\n",
    "print(Utotal)\n"
   ]
  },
  {
   "cell_type": "code",
   "execution_count": 78,
   "metadata": {},
   "outputs": [
    {
     "name": "stdout",
     "output_type": "stream",
     "text": [
      "\n",
      "--------------------------------------\n",
      "Deformacao no elemento  1  =  2.38081299653057e-06\n",
      "Tensao no elemento  1  =  499970.7292714197\n",
      "\n",
      "--------------------------------------\n",
      "Deformacao no elemento  2  =  5.3569621518444336e-06\n",
      "Tensao no elemento  2  =  1124962.051887331\n",
      "\n",
      "--------------------------------------\n",
      "Deformacao no elemento  3  =  -2.976190476190475e-06\n",
      "Tensao no elemento  3  =  -624999.9999999998\n",
      "[2.38081299653057e-06, 5.3569621518444336e-06, -2.976190476190475e-06]\n",
      "[499970.7292714197, 1124962.051887331, -624999.9999999998]\n",
      "[99.99414585428394, 224.99241037746623, -124.99999999999996]\n"
     ]
    }
   ],
   "source": [
    "'''\n",
    "Neste for, iremos calcular tanto a deformação quanto a tensão de cada elemento.\n",
    "\n",
    "'''\n",
    "listadefo = []\n",
    "listatensao = []\n",
    "listafint = []\n",
    "for elemento in range(nm):\n",
    "    no1 = int(Inc[elemento,0]) -1\n",
    "    no2 = int(Inc[elemento,1]) -1\n",
    "    E = Inc[elemento,2]\n",
    "    A = Inc[elemento,3]\n",
    "    L = np.sqrt((N[0,no2]-N[0,no1])**2+(N[1,no2]-N[1,no1])**2)\n",
    "    c = ((N[0,no2]-N[0,no1])/L)\n",
    "    s = ((N[1,no2]-N[1,no1])/L)\n",
    "   \n",
    "    list_dot = [Utotal[2*no1], Utotal[2*no1+1], Utotal[2*no2], Utotal[2*no2+1]]\n",
    "\n",
    "    K = np.array([-c , -s , c , s])/L\n",
    "\n",
    "    defo = 0\n",
    "    for i in range(4):\n",
    "        defo += K[i]*list_dot[i]\n",
    "\n",
    "    tensao = E*defo\n",
    "    fint = tensao*A\n",
    "    listadefo.append(defo)\n",
    "    listatensao.append(tensao)\n",
    "    listafint.append(fint)\n",
    "    print (\"\\n--------------------------------------\")\n",
    "    print(\"Deformacao no elemento \",elemento+1,\" = \",defo)\n",
    "    print(\"Tensao no elemento \",elemento+1,\" = \",tensao)\n",
    "print(listadefo)\n",
    "print(listatensao)\n",
    "print(listafint)\n"
   ]
  },
  {
   "cell_type": "code",
   "execution_count": 79,
   "metadata": {},
   "outputs": [
    {
     "name": "stdout",
     "output_type": "stream",
     "text": [
      "--------------------------------------\n",
      "Vetor de reacoes\n",
      "\n",
      "[ 7.50000000e+01  5.85414572e-03 -2.24992410e+02  9.99941459e+01\n",
      "  1.49992410e+02 -1.00000000e+02]\n",
      "\n",
      "--------------------------------------\n",
      "Vetor de reacoes reduzido\n",
      "\n",
      "[74.99999999999997, -224.9924103774662, 99.99414585428393]\n"
     ]
    }
   ],
   "source": [
    "'''\n",
    "Tendo os deslocamentos, podemos calcular as reações de apoio.\n",
    "\n",
    "'''\n",
    "\n",
    "Reacao = kglobal.dot(Utotal)\n",
    "reacaored = []\n",
    "\n",
    "for i in range(nn*2):\n",
    "    if i in R.astype(int):\n",
    "        reacaored.append(Reacao[i])\n",
    "\n",
    "print(\"--------------------------------------\")\n",
    "print(\"Vetor de reacoes\")\n",
    "print(\"\")\n",
    "print(Reacao)\n",
    "\n",
    "print(\"\\n--------------------------------------\")\n",
    "print(\"Vetor de reacoes reduzido\")\n",
    "print(\"\")\n",
    "print(reacaored)"
   ]
  },
  {
   "attachments": {},
   "cell_type": "markdown",
   "metadata": {},
   "source": [
    "___\n",
    "\n",
    "## Pós-processamento\n",
    "\n",
    "Agora, com os deslocamentos nodais, as deformações e as tensões em cada elemento, podemos partir para a etapa de **pós-processamento**. Nesta parte, apenas iremos imprimir os resultados em um arquivo de saída do tipo `.txt`.\n",
    "\n",
    "Além disso, também iremos plotar a mesma imagem da treliça demonstrada anteriormente, porém agora com os deslocamentos já aplicados."
   ]
  },
  {
   "cell_type": "code",
   "execution_count": 80,
   "metadata": {},
   "outputs": [],
   "source": [
    "''' \n",
    "Transportando todos os dados necessários para um arquivo de saída.\n",
    "\n",
    "'''\n",
    "\n",
    "with open (\"saida.txt\", \"w\") as arquivo:\n",
    "\n",
    "    # Escrevendo as reacoes de apoio\n",
    "    arquivo.write(\"Reacoes de apoio [n]\\n\")\n",
    "    arquivo.write(\"[\")\n",
    "    for i in range(len(reacaored)):\n",
    "        arquivo.write(\"[\")\n",
    "        arquivo.write(str(reacaored[i]))\n",
    "        if i == len(reacaored)-1:\n",
    "            arquivo.write(\"]]\")\n",
    "        else :\n",
    "            arquivo.write(\"]\\n\")\n",
    "    arquivo.write(\"\")\n",
    "\n",
    "    # Escrevendo os deslocamentos\n",
    "    arquivo.write(\"\\n\\nDeslocamentos [m]\\n\")\n",
    "    arquivo.write(\"[\")\n",
    "    for i in range(len(Utotal)):\n",
    "        arquivo.write(\"[\")\n",
    "        arquivo.write(str(Utotal[i]))\n",
    "        if i == len(Utotal)-1:\n",
    "            arquivo.write(\"]]\")\n",
    "        else :\n",
    "            arquivo.write(\"]\\n\")\n",
    "    arquivo.write(\"\\n\")\n",
    "\n",
    "    # Escrevendo as deformacoes\n",
    "    arquivo.write(\"\\n\\nDeformacoes []\\n\")\n",
    "    arquivo.write(\"[\")\n",
    "    for i in range(nm):\n",
    "        arquivo.write(\"[\")\n",
    "        arquivo.write(str(listadefo[i]))\n",
    "        if i == nm-1:\n",
    "            arquivo.write(\"]]\")\n",
    "        else :\n",
    "            arquivo.write(\"]\\n\")\n",
    "    arquivo.write(\"\\n\")\n",
    "\n",
    "    # Escrevendo as forcas internas\n",
    "    arquivo.write(\"\\n\\nForcas internas [N]\\n\")\n",
    "    arquivo.write(\"[\")\n",
    "    for i in range(nm):\n",
    "        arquivo.write(\"[\")\n",
    "        arquivo.write(str(listafint[i]))\n",
    "        if i == nm-1:\n",
    "            arquivo.write(\"]]\")\n",
    "        else :\n",
    "            arquivo.write(\"]\\n\")\n",
    "    arquivo.write(\"\\n\")\n",
    "\n",
    "    # Escrevendo as tensoes\n",
    "    arquivo.write(\"\\n\\nTensoes internas [Pa]\\n\")\n",
    "    arquivo.write(\"[\")\n",
    "    for i in range(nm):\n",
    "        arquivo.write(\"[\")\n",
    "        arquivo.write(str(listatensao[i]))\n",
    "        if i == nm-1:\n",
    "            arquivo.write(\"]]\")\n",
    "        else :\n",
    "            arquivo.write(\"]\\n\")\n",
    "    arquivo.write(\"\\n\")\n",
    "\n",
    "\n",
    "\n",
    "arquivo.close()\n",
    "\n"
   ]
  },
  {
   "cell_type": "code",
   "execution_count": 82,
   "metadata": {},
   "outputs": [
    {
     "ename": "TypeError",
     "evalue": "plota() takes 2 positional arguments but 14 were given",
     "output_type": "error",
     "traceback": [
      "\u001b[1;31m---------------------------------------------------------------------------\u001b[0m",
      "\u001b[1;31mTypeError\u001b[0m                                 Traceback (most recent call last)",
      "Cell \u001b[1;32mIn[82], line 10\u001b[0m\n\u001b[0;32m      7\u001b[0m     Ndef[\u001b[39m0\u001b[39m,i] \u001b[39m+\u001b[39m\u001b[39m=\u001b[39m Utotal[\u001b[39m2\u001b[39m\u001b[39m*\u001b[39mi]\n\u001b[0;32m      8\u001b[0m     Ndef[\u001b[39m1\u001b[39m,i] \u001b[39m+\u001b[39m\u001b[39m=\u001b[39m Utotal[\u001b[39m2\u001b[39m\u001b[39m*\u001b[39mi\u001b[39m+\u001b[39m\u001b[39m1\u001b[39m]\n\u001b[1;32m---> 10\u001b[0m plota(Ndef, Inc, nm, nn, \u001b[39m1\u001b[39;49m, \u001b[39m1\u001b[39;49m, \u001b[39m1\u001b[39;49m, \u001b[39m1\u001b[39;49m, \u001b[39m1\u001b[39;49m, \u001b[39m1\u001b[39;49m, \u001b[39m1\u001b[39;49m, \u001b[39m1\u001b[39;49m, \u001b[39m1\u001b[39;49m, \u001b[39m1\u001b[39;49m)\n",
      "\u001b[1;31mTypeError\u001b[0m: plota() takes 2 positional arguments but 14 were given"
     ]
    }
   ],
   "source": [
    "# Gerando a nova imagem mas já com as deformações\n",
    "# Primeiro aplicar as deformações em uma cópia e depois usar o plota()\n",
    "\n"
   ]
  }
 ],
 "metadata": {
  "kernelspec": {
   "display_name": "base",
   "language": "python",
   "name": "python3"
  },
  "language_info": {
   "codemirror_mode": {
    "name": "ipython",
    "version": 3
   },
   "file_extension": ".py",
   "mimetype": "text/x-python",
   "name": "python",
   "nbconvert_exporter": "python",
   "pygments_lexer": "ipython3",
   "version": "3.11.3"
  },
  "orig_nbformat": 4
 },
 "nbformat": 4,
 "nbformat_minor": 2
}
